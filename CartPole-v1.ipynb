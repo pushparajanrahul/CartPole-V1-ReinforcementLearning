{
 "cells": [
  {
   "cell_type": "markdown",
   "id": "7f4605e8-2171-4702-a17f-e518fd470746",
   "metadata": {},
   "source": [
    "# Reinforcement Learning - CartPole-v1 Example\n",
    "\n",
    "## Install the below Dependencies\n",
    "\n",
    "To run this code, you'll need to install the following primary dependencies:"
   ]
  },
  {
   "cell_type": "code",
   "execution_count": 1,
   "id": "6200e147-ef7d-47fa-9434-45a33e402f02",
   "metadata": {},
   "outputs": [
    {
     "name": "stdout",
     "output_type": "stream",
     "text": [
      "Defaulting to user installation because normal site-packages is not writeable\n",
      "Requirement already satisfied: tensorflow==2.13.1 in /home/rpushpar/.local/lib/python3.11/site-packages (2.13.1)\n",
      "Requirement already satisfied: absl-py>=1.0.0 in /home/rpushpar/.local/lib/python3.11/site-packages (from tensorflow==2.13.1) (2.0.0)\n",
      "Requirement already satisfied: astunparse>=1.6.0 in /home/rpushpar/.local/lib/python3.11/site-packages (from tensorflow==2.13.1) (1.6.3)\n",
      "Requirement already satisfied: flatbuffers>=23.1.21 in /home/rpushpar/.local/lib/python3.11/site-packages (from tensorflow==2.13.1) (23.5.26)\n",
      "Requirement already satisfied: gast<=0.4.0,>=0.2.1 in /home/rpushpar/.local/lib/python3.11/site-packages (from tensorflow==2.13.1) (0.4.0)\n",
      "Requirement already satisfied: google-pasta>=0.1.1 in /home/rpushpar/.local/lib/python3.11/site-packages (from tensorflow==2.13.1) (0.2.0)\n",
      "Requirement already satisfied: grpcio<2.0,>=1.24.3 in /home/rpushpar/.local/lib/python3.11/site-packages (from tensorflow==2.13.1) (1.59.0)\n",
      "Requirement already satisfied: h5py>=2.9.0 in /home/rpushpar/.local/lib/python3.11/site-packages (from tensorflow==2.13.1) (3.10.0)\n",
      "Requirement already satisfied: keras<2.14,>=2.13.1 in /home/rpushpar/.local/lib/python3.11/site-packages (from tensorflow==2.13.1) (2.13.1)\n",
      "Requirement already satisfied: libclang>=13.0.0 in /home/rpushpar/.local/lib/python3.11/site-packages (from tensorflow==2.13.1) (16.0.6)\n",
      "Requirement already satisfied: numpy<=1.24.3,>=1.22 in /home/rpushpar/.local/lib/python3.11/site-packages (from tensorflow==2.13.1) (1.24.3)\n",
      "Requirement already satisfied: opt-einsum>=2.3.2 in /home/rpushpar/.local/lib/python3.11/site-packages (from tensorflow==2.13.1) (3.3.0)\n",
      "Requirement already satisfied: packaging in /packages/apps/jupyter/2023-10-09/lib/python3.11/site-packages (from tensorflow==2.13.1) (23.0)\n",
      "Requirement already satisfied: protobuf!=4.21.0,!=4.21.1,!=4.21.2,!=4.21.3,!=4.21.4,!=4.21.5,<5.0.0dev,>=3.20.3 in /home/rpushpar/.local/lib/python3.11/site-packages (from tensorflow==2.13.1) (4.24.4)\n",
      "Requirement already satisfied: setuptools in /home/rpushpar/.local/lib/python3.11/site-packages (from tensorflow==2.13.1) (60.2.0)\n",
      "Requirement already satisfied: six>=1.12.0 in /packages/apps/jupyter/2023-10-09/lib/python3.11/site-packages (from tensorflow==2.13.1) (1.16.0)\n",
      "Requirement already satisfied: tensorboard<2.14,>=2.13 in /home/rpushpar/.local/lib/python3.11/site-packages (from tensorflow==2.13.1) (2.13.0)\n",
      "Requirement already satisfied: tensorflow-estimator<2.14,>=2.13.0 in /home/rpushpar/.local/lib/python3.11/site-packages (from tensorflow==2.13.1) (2.13.0)\n",
      "Requirement already satisfied: termcolor>=1.1.0 in /home/rpushpar/.local/lib/python3.11/site-packages (from tensorflow==2.13.1) (2.3.0)\n",
      "Requirement already satisfied: typing-extensions<4.6.0,>=3.6.6 in /home/rpushpar/.local/lib/python3.11/site-packages (from tensorflow==2.13.1) (4.5.0)\n",
      "Requirement already satisfied: wrapt>=1.11.0 in /home/rpushpar/.local/lib/python3.11/site-packages (from tensorflow==2.13.1) (1.14.1)\n",
      "Requirement already satisfied: tensorflow-io-gcs-filesystem>=0.23.1 in /home/rpushpar/.local/lib/python3.11/site-packages (from tensorflow==2.13.1) (0.34.0)\n",
      "Requirement already satisfied: wheel<1.0,>=0.23.0 in /packages/apps/jupyter/2023-10-09/lib/python3.11/site-packages (from astunparse>=1.6.0->tensorflow==2.13.1) (0.38.4)\n",
      "Requirement already satisfied: google-auth<3,>=1.6.3 in /home/rpushpar/.local/lib/python3.11/site-packages (from tensorboard<2.14,>=2.13->tensorflow==2.13.1) (2.23.3)\n",
      "Requirement already satisfied: google-auth-oauthlib<1.1,>=0.5 in /home/rpushpar/.local/lib/python3.11/site-packages (from tensorboard<2.14,>=2.13->tensorflow==2.13.1) (1.0.0)\n",
      "Requirement already satisfied: markdown>=2.6.8 in /home/rpushpar/.local/lib/python3.11/site-packages (from tensorboard<2.14,>=2.13->tensorflow==2.13.1) (3.5)\n",
      "Requirement already satisfied: requests<3,>=2.21.0 in /home/rpushpar/.local/lib/python3.11/site-packages (from tensorboard<2.14,>=2.13->tensorflow==2.13.1) (2.28.2)\n",
      "Requirement already satisfied: tensorboard-data-server<0.8.0,>=0.7.0 in /home/rpushpar/.local/lib/python3.11/site-packages (from tensorboard<2.14,>=2.13->tensorflow==2.13.1) (0.7.2)\n",
      "Requirement already satisfied: werkzeug>=1.0.1 in /home/rpushpar/.local/lib/python3.11/site-packages (from tensorboard<2.14,>=2.13->tensorflow==2.13.1) (3.0.1)\n",
      "Requirement already satisfied: cachetools<6.0,>=2.0.0 in /home/rpushpar/.local/lib/python3.11/site-packages (from google-auth<3,>=1.6.3->tensorboard<2.14,>=2.13->tensorflow==2.13.1) (5.3.2)\n",
      "Requirement already satisfied: pyasn1-modules>=0.2.1 in /home/rpushpar/.local/lib/python3.11/site-packages (from google-auth<3,>=1.6.3->tensorboard<2.14,>=2.13->tensorflow==2.13.1) (0.3.0)\n",
      "Requirement already satisfied: rsa<5,>=3.1.4 in /home/rpushpar/.local/lib/python3.11/site-packages (from google-auth<3,>=1.6.3->tensorboard<2.14,>=2.13->tensorflow==2.13.1) (4.9)\n",
      "Requirement already satisfied: requests-oauthlib>=0.7.0 in /home/rpushpar/.local/lib/python3.11/site-packages (from google-auth-oauthlib<1.1,>=0.5->tensorboard<2.14,>=2.13->tensorflow==2.13.1) (1.3.1)\n",
      "Requirement already satisfied: charset-normalizer<4,>=2 in /packages/apps/jupyter/2023-10-09/lib/python3.11/site-packages (from requests<3,>=2.21.0->tensorboard<2.14,>=2.13->tensorflow==2.13.1) (2.0.4)\n",
      "Requirement already satisfied: idna<4,>=2.5 in /packages/apps/jupyter/2023-10-09/lib/python3.11/site-packages (from requests<3,>=2.21.0->tensorboard<2.14,>=2.13->tensorflow==2.13.1) (3.4)\n",
      "Requirement already satisfied: urllib3<1.27,>=1.21.1 in /packages/apps/jupyter/2023-10-09/lib/python3.11/site-packages (from requests<3,>=2.21.0->tensorboard<2.14,>=2.13->tensorflow==2.13.1) (1.26.16)\n",
      "Requirement already satisfied: certifi>=2017.4.17 in /packages/apps/jupyter/2023-10-09/lib/python3.11/site-packages (from requests<3,>=2.21.0->tensorboard<2.14,>=2.13->tensorflow==2.13.1) (2023.7.22)\n",
      "Requirement already satisfied: MarkupSafe>=2.1.1 in /packages/apps/jupyter/2023-10-09/lib/python3.11/site-packages (from werkzeug>=1.0.1->tensorboard<2.14,>=2.13->tensorflow==2.13.1) (2.1.3)\n",
      "Requirement already satisfied: pyasn1<0.6.0,>=0.4.6 in /home/rpushpar/.local/lib/python3.11/site-packages (from pyasn1-modules>=0.2.1->google-auth<3,>=1.6.3->tensorboard<2.14,>=2.13->tensorflow==2.13.1) (0.5.0)\n",
      "Requirement already satisfied: oauthlib>=3.0.0 in /home/rpushpar/.local/lib/python3.11/site-packages (from requests-oauthlib>=0.7.0->google-auth-oauthlib<1.1,>=0.5->tensorboard<2.14,>=2.13->tensorflow==2.13.1) (3.2.2)\n",
      "Defaulting to user installation because normal site-packages is not writeable\n",
      "Requirement already satisfied: gym in /home/rpushpar/.local/lib/python3.11/site-packages (0.17.3)\n",
      "Requirement already satisfied: scipy in /packages/apps/jupyter/2023-10-09/lib/python3.11/site-packages (from gym) (1.11.3)\n",
      "Requirement already satisfied: numpy>=1.10.4 in /home/rpushpar/.local/lib/python3.11/site-packages (from gym) (1.24.3)\n",
      "Requirement already satisfied: pyglet<=1.5.0,>=1.4.0 in /home/rpushpar/.local/lib/python3.11/site-packages (from gym) (1.5.0)\n",
      "Requirement already satisfied: cloudpickle<1.7.0,>=1.2.0 in /home/rpushpar/.local/lib/python3.11/site-packages (from gym) (1.6.0)\n",
      "Requirement already satisfied: future in /home/rpushpar/.local/lib/python3.11/site-packages (from pyglet<=1.5.0,>=1.4.0->gym) (1.0.0)\n",
      "Defaulting to user installation because normal site-packages is not writeable\n",
      "Requirement already satisfied: keras in /home/rpushpar/.local/lib/python3.11/site-packages (2.13.1)\n",
      "Defaulting to user installation because normal site-packages is not writeable\n",
      "Requirement already satisfied: keras-rl2 in /home/rpushpar/.local/lib/python3.11/site-packages (1.0.5)\n",
      "Requirement already satisfied: tensorflow in /home/rpushpar/.local/lib/python3.11/site-packages (from keras-rl2) (2.13.1)\n",
      "Requirement already satisfied: absl-py>=1.0.0 in /home/rpushpar/.local/lib/python3.11/site-packages (from tensorflow->keras-rl2) (2.0.0)\n",
      "Requirement already satisfied: astunparse>=1.6.0 in /home/rpushpar/.local/lib/python3.11/site-packages (from tensorflow->keras-rl2) (1.6.3)\n",
      "Requirement already satisfied: flatbuffers>=23.1.21 in /home/rpushpar/.local/lib/python3.11/site-packages (from tensorflow->keras-rl2) (23.5.26)\n",
      "Requirement already satisfied: gast<=0.4.0,>=0.2.1 in /home/rpushpar/.local/lib/python3.11/site-packages (from tensorflow->keras-rl2) (0.4.0)\n",
      "Requirement already satisfied: google-pasta>=0.1.1 in /home/rpushpar/.local/lib/python3.11/site-packages (from tensorflow->keras-rl2) (0.2.0)\n",
      "Requirement already satisfied: grpcio<2.0,>=1.24.3 in /home/rpushpar/.local/lib/python3.11/site-packages (from tensorflow->keras-rl2) (1.59.0)\n",
      "Requirement already satisfied: h5py>=2.9.0 in /home/rpushpar/.local/lib/python3.11/site-packages (from tensorflow->keras-rl2) (3.10.0)\n",
      "Requirement already satisfied: keras<2.14,>=2.13.1 in /home/rpushpar/.local/lib/python3.11/site-packages (from tensorflow->keras-rl2) (2.13.1)\n",
      "Requirement already satisfied: libclang>=13.0.0 in /home/rpushpar/.local/lib/python3.11/site-packages (from tensorflow->keras-rl2) (16.0.6)\n",
      "Requirement already satisfied: numpy<=1.24.3,>=1.22 in /home/rpushpar/.local/lib/python3.11/site-packages (from tensorflow->keras-rl2) (1.24.3)\n",
      "Requirement already satisfied: opt-einsum>=2.3.2 in /home/rpushpar/.local/lib/python3.11/site-packages (from tensorflow->keras-rl2) (3.3.0)\n",
      "Requirement already satisfied: packaging in /packages/apps/jupyter/2023-10-09/lib/python3.11/site-packages (from tensorflow->keras-rl2) (23.0)\n",
      "Requirement already satisfied: protobuf!=4.21.0,!=4.21.1,!=4.21.2,!=4.21.3,!=4.21.4,!=4.21.5,<5.0.0dev,>=3.20.3 in /home/rpushpar/.local/lib/python3.11/site-packages (from tensorflow->keras-rl2) (4.24.4)\n",
      "Requirement already satisfied: setuptools in /home/rpushpar/.local/lib/python3.11/site-packages (from tensorflow->keras-rl2) (60.2.0)\n",
      "Requirement already satisfied: six>=1.12.0 in /packages/apps/jupyter/2023-10-09/lib/python3.11/site-packages (from tensorflow->keras-rl2) (1.16.0)\n",
      "Requirement already satisfied: tensorboard<2.14,>=2.13 in /home/rpushpar/.local/lib/python3.11/site-packages (from tensorflow->keras-rl2) (2.13.0)\n",
      "Requirement already satisfied: tensorflow-estimator<2.14,>=2.13.0 in /home/rpushpar/.local/lib/python3.11/site-packages (from tensorflow->keras-rl2) (2.13.0)\n",
      "Requirement already satisfied: termcolor>=1.1.0 in /home/rpushpar/.local/lib/python3.11/site-packages (from tensorflow->keras-rl2) (2.3.0)\n",
      "Requirement already satisfied: typing-extensions<4.6.0,>=3.6.6 in /home/rpushpar/.local/lib/python3.11/site-packages (from tensorflow->keras-rl2) (4.5.0)\n",
      "Requirement already satisfied: wrapt>=1.11.0 in /home/rpushpar/.local/lib/python3.11/site-packages (from tensorflow->keras-rl2) (1.14.1)\n",
      "Requirement already satisfied: tensorflow-io-gcs-filesystem>=0.23.1 in /home/rpushpar/.local/lib/python3.11/site-packages (from tensorflow->keras-rl2) (0.34.0)\n",
      "Requirement already satisfied: wheel<1.0,>=0.23.0 in /packages/apps/jupyter/2023-10-09/lib/python3.11/site-packages (from astunparse>=1.6.0->tensorflow->keras-rl2) (0.38.4)\n",
      "Requirement already satisfied: google-auth<3,>=1.6.3 in /home/rpushpar/.local/lib/python3.11/site-packages (from tensorboard<2.14,>=2.13->tensorflow->keras-rl2) (2.23.3)\n",
      "Requirement already satisfied: google-auth-oauthlib<1.1,>=0.5 in /home/rpushpar/.local/lib/python3.11/site-packages (from tensorboard<2.14,>=2.13->tensorflow->keras-rl2) (1.0.0)\n",
      "Requirement already satisfied: markdown>=2.6.8 in /home/rpushpar/.local/lib/python3.11/site-packages (from tensorboard<2.14,>=2.13->tensorflow->keras-rl2) (3.5)\n",
      "Requirement already satisfied: requests<3,>=2.21.0 in /home/rpushpar/.local/lib/python3.11/site-packages (from tensorboard<2.14,>=2.13->tensorflow->keras-rl2) (2.28.2)\n",
      "Requirement already satisfied: tensorboard-data-server<0.8.0,>=0.7.0 in /home/rpushpar/.local/lib/python3.11/site-packages (from tensorboard<2.14,>=2.13->tensorflow->keras-rl2) (0.7.2)\n",
      "Requirement already satisfied: werkzeug>=1.0.1 in /home/rpushpar/.local/lib/python3.11/site-packages (from tensorboard<2.14,>=2.13->tensorflow->keras-rl2) (3.0.1)\n",
      "Requirement already satisfied: cachetools<6.0,>=2.0.0 in /home/rpushpar/.local/lib/python3.11/site-packages (from google-auth<3,>=1.6.3->tensorboard<2.14,>=2.13->tensorflow->keras-rl2) (5.3.2)\n",
      "Requirement already satisfied: pyasn1-modules>=0.2.1 in /home/rpushpar/.local/lib/python3.11/site-packages (from google-auth<3,>=1.6.3->tensorboard<2.14,>=2.13->tensorflow->keras-rl2) (0.3.0)\n",
      "Requirement already satisfied: rsa<5,>=3.1.4 in /home/rpushpar/.local/lib/python3.11/site-packages (from google-auth<3,>=1.6.3->tensorboard<2.14,>=2.13->tensorflow->keras-rl2) (4.9)\n",
      "Requirement already satisfied: requests-oauthlib>=0.7.0 in /home/rpushpar/.local/lib/python3.11/site-packages (from google-auth-oauthlib<1.1,>=0.5->tensorboard<2.14,>=2.13->tensorflow->keras-rl2) (1.3.1)\n",
      "Requirement already satisfied: charset-normalizer<4,>=2 in /packages/apps/jupyter/2023-10-09/lib/python3.11/site-packages (from requests<3,>=2.21.0->tensorboard<2.14,>=2.13->tensorflow->keras-rl2) (2.0.4)\n",
      "Requirement already satisfied: idna<4,>=2.5 in /packages/apps/jupyter/2023-10-09/lib/python3.11/site-packages (from requests<3,>=2.21.0->tensorboard<2.14,>=2.13->tensorflow->keras-rl2) (3.4)\n",
      "Requirement already satisfied: urllib3<1.27,>=1.21.1 in /packages/apps/jupyter/2023-10-09/lib/python3.11/site-packages (from requests<3,>=2.21.0->tensorboard<2.14,>=2.13->tensorflow->keras-rl2) (1.26.16)\n",
      "Requirement already satisfied: certifi>=2017.4.17 in /packages/apps/jupyter/2023-10-09/lib/python3.11/site-packages (from requests<3,>=2.21.0->tensorboard<2.14,>=2.13->tensorflow->keras-rl2) (2023.7.22)\n",
      "Requirement already satisfied: MarkupSafe>=2.1.1 in /packages/apps/jupyter/2023-10-09/lib/python3.11/site-packages (from werkzeug>=1.0.1->tensorboard<2.14,>=2.13->tensorflow->keras-rl2) (2.1.3)\n",
      "Requirement already satisfied: pyasn1<0.6.0,>=0.4.6 in /home/rpushpar/.local/lib/python3.11/site-packages (from pyasn1-modules>=0.2.1->google-auth<3,>=1.6.3->tensorboard<2.14,>=2.13->tensorflow->keras-rl2) (0.5.0)\n",
      "Requirement already satisfied: oauthlib>=3.0.0 in /home/rpushpar/.local/lib/python3.11/site-packages (from requests-oauthlib>=0.7.0->google-auth-oauthlib<1.1,>=0.5->tensorboard<2.14,>=2.13->tensorflow->keras-rl2) (3.2.2)\n"
     ]
    }
   ],
   "source": [
    "!pip install tensorflow==2.13.1\n",
    "!pip install gym #Open AI Gym\n",
    "!pip install keras\n",
    "!pip install keras-rl2\n"
   ]
  },
  {
   "cell_type": "markdown",
   "id": "6a4b233f-8885-48e9-85be-ea906c616859",
   "metadata": {},
   "source": [
    "## Testing Random Environment with OpenAI-Gym\n",
    "\n",
    "This code initializes the CartPole-v1 environment from OpenAI Gym and performs random actions for a specified number of episodes. It prints out the episode number and the total score obtained in each episode. The environment is reset at the beginning of each episode, and actions are chosen randomly (either left or right) without any learning algorithm applied."
   ]
  },
  {
   "cell_type": "code",
   "execution_count": 2,
   "id": "b4ef2d7c-43d2-460c-b4a6-365f01a027cd",
   "metadata": {},
   "outputs": [],
   "source": [
    "import gym\n",
    "import random"
   ]
  },
  {
   "cell_type": "code",
   "execution_count": 3,
   "id": "7ec2271f-f23e-44ad-a18a-c98b5ba72116",
   "metadata": {},
   "outputs": [],
   "source": [
    "env = gym.make('CartPole-v1')\n",
    "states = env.observation_space.shape[0]\n",
    "actions = env.action_space.n"
   ]
  },
  {
   "cell_type": "code",
   "execution_count": 4,
   "id": "8293097f-c179-4cfe-b470-3be2b516ff71",
   "metadata": {},
   "outputs": [
    {
     "data": {
      "text/plain": [
       "4"
      ]
     },
     "execution_count": 4,
     "metadata": {},
     "output_type": "execute_result"
    }
   ],
   "source": [
    "states"
   ]
  },
  {
   "cell_type": "code",
   "execution_count": 5,
   "id": "d36d7d30-0fdb-4d12-b20b-9fc24750423c",
   "metadata": {},
   "outputs": [
    {
     "name": "stdout",
     "output_type": "stream",
     "text": [
      "Episode:1 Score:11.0\n",
      "Episode:2 Score:11.0\n",
      "Episode:3 Score:11.0\n",
      "Episode:4 Score:21.0\n",
      "Episode:5 Score:19.0\n",
      "Episode:6 Score:22.0\n",
      "Episode:7 Score:53.0\n",
      "Episode:8 Score:42.0\n",
      "Episode:9 Score:36.0\n",
      "Episode:10 Score:15.0\n"
     ]
    }
   ],
   "source": [
    "episodes = 10\n",
    "\n",
    "#Resetting the CartPole enviroment\n",
    "for episode in range(1, episodes+1):\n",
    "    state = env.reset()\n",
    "    done = False\n",
    "    score = 0\n",
    "\n",
    "\n",
    "#Testing the random environment\n",
    "    while not done:\n",
    "        #env.render()\n",
    "        action = random.choice([0,1])\n",
    "        n_state, reward, done, info = env.step(action)\n",
    "        score+=reward\n",
    "    print('Episode:{} Score:{}'.format(episode, score))"
   ]
  },
  {
   "cell_type": "markdown",
   "id": "0ed8d4e4-558b-400e-83fa-a13ece9a410e",
   "metadata": {},
   "source": [
    "## Creating Deep Learning Model with Keras\n",
    "\n",
    "This code defines a function build_model() that constructs a neural network model using Keras for a reinforcement learning agent. The model architecture consists of an input layer, two hidden layers with ReLU activation functions, and an output layer with a linear activation function. The states and actions parameters determine the input and output dimensions of the model respectively. Finally, the function returns the compiled model. The model.summary() call prints a summary of the model's architecture."
   ]
  },
  {
   "cell_type": "code",
   "execution_count": 6,
   "id": "5497e4a6-fd1f-447d-a8c8-f29a16f1d3cf",
   "metadata": {},
   "outputs": [
    {
     "name": "stderr",
     "output_type": "stream",
     "text": [
      "2024-03-23 15:40:22.645321: I tensorflow/tsl/cuda/cudart_stub.cc:28] Could not find cuda drivers on your machine, GPU will not be used.\n",
      "2024-03-23 15:40:22.673156: I tensorflow/tsl/cuda/cudart_stub.cc:28] Could not find cuda drivers on your machine, GPU will not be used.\n",
      "2024-03-23 15:40:22.673836: I tensorflow/core/platform/cpu_feature_guard.cc:182] This TensorFlow binary is optimized to use available CPU instructions in performance-critical operations.\n",
      "To enable the following instructions: AVX2 FMA, in other operations, rebuild TensorFlow with the appropriate compiler flags.\n",
      "2024-03-23 15:40:23.506879: W tensorflow/compiler/tf2tensorrt/utils/py_utils.cc:38] TF-TRT Warning: Could not find TensorRT\n"
     ]
    }
   ],
   "source": [
    "import numpy as np\n",
    "from tensorflow.keras.models import Sequential\n",
    "from tensorflow.keras.layers import Dense, Flatten\n",
    "from tensorflow.keras.optimizers.legacy import Adam"
   ]
  },
  {
   "cell_type": "code",
   "execution_count": 7,
   "id": "75207db9-b97e-4a09-bfc6-91a0f35f65ea",
   "metadata": {},
   "outputs": [],
   "source": [
    "def build_model(states, actions):\n",
    "    model = Sequential()\n",
    "    model.add(Flatten(input_shape=(1, states)))\n",
    "    model.add(Dense(24, activation='relu'))\n",
    "    model.add(Dense(24, activation='relu'))\n",
    "    model.add(Dense(actions, activation='linear'))\n",
    "    return model"
   ]
  },
  {
   "cell_type": "code",
   "execution_count": 8,
   "id": "1a40646f-3c56-4176-9e02-1f908f251e50",
   "metadata": {},
   "outputs": [
    {
     "name": "stderr",
     "output_type": "stream",
     "text": [
      "2024-03-23 15:40:25.773698: W tensorflow/core/common_runtime/gpu/gpu_device.cc:1960] Cannot dlopen some GPU libraries. Please make sure the missing libraries mentioned above are installed properly if you would like to use GPU. Follow the guide at https://www.tensorflow.org/install/gpu for how to download and setup the required libraries for your platform.\n",
      "Skipping registering GPU devices...\n"
     ]
    }
   ],
   "source": [
    "model= build_model(states, actions)"
   ]
  },
  {
   "cell_type": "code",
   "execution_count": 9,
   "id": "b51b4f18-16b2-48cd-860e-2aeab7647358",
   "metadata": {},
   "outputs": [
    {
     "name": "stdout",
     "output_type": "stream",
     "text": [
      "Model: \"sequential\"\n",
      "_________________________________________________________________\n",
      " Layer (type)                Output Shape              Param #   \n",
      "=================================================================\n",
      " flatten (Flatten)           (None, 4)                 0         \n",
      "                                                                 \n",
      " dense (Dense)               (None, 24)                120       \n",
      "                                                                 \n",
      " dense_1 (Dense)             (None, 24)                600       \n",
      "                                                                 \n",
      " dense_2 (Dense)             (None, 2)                 50        \n",
      "                                                                 \n",
      "=================================================================\n",
      "Total params: 770 (3.01 KB)\n",
      "Trainable params: 770 (3.01 KB)\n",
      "Non-trainable params: 0 (0.00 Byte)\n",
      "_________________________________________________________________\n"
     ]
    }
   ],
   "source": [
    "model.summary()"
   ]
  },
  {
   "cell_type": "markdown",
   "id": "faa24560-d02c-4f94-828d-f57018454bcb",
   "metadata": {},
   "source": []
  },
  {
   "cell_type": "markdown",
   "id": "8aab8393-dcf8-413f-af96-182432c09b48",
   "metadata": {},
   "source": [
    "## Build Agent with Keras-RL\n",
    "\n",
    "This code snippet demonstrates how to build and train a Deep Q-Network (DQN) agent using the reinforcement learning (RL) library. The build_agent function constructs the DQN agent with specified policies and memory. The agent is then compiled and trained on an environment (env) with a specified number of steps. Finally, the trained agent's performance is evaluated and the average episode reward is printed. Ensure proper installation of TensorFlow and Keras libraries before running the code."
   ]
  },
  {
   "cell_type": "code",
   "execution_count": 10,
   "id": "19af0aa8-75c5-41c4-be24-fc091c38b1ed",
   "metadata": {},
   "outputs": [],
   "source": [
    "import tensorflow as tf\n",
    "from keras import __version__\n",
    "tf.keras.__version__ = __version__ #As the rl/callbacks.py file has from tensorflow.keras instead of from keras import __version__\n",
    "\n",
    "from rl.agents import DQNAgent\n",
    "from rl.policy import BoltzmannQPolicy\n",
    "from rl.memory import SequentialMemory"
   ]
  },
  {
   "cell_type": "code",
   "execution_count": 11,
   "id": "e2edd1cb-98c0-4b68-a4ae-f31ea2d64b14",
   "metadata": {},
   "outputs": [
    {
     "data": {
      "text/plain": [
       "4"
      ]
     },
     "execution_count": 11,
     "metadata": {},
     "output_type": "execute_result"
    }
   ],
   "source": [
    "states"
   ]
  },
  {
   "cell_type": "code",
   "execution_count": 12,
   "id": "a405829e-2841-43bc-be16-1aa7a306e2ed",
   "metadata": {},
   "outputs": [],
   "source": [
    "model= build_model(states, actions)"
   ]
  },
  {
   "cell_type": "code",
   "execution_count": 13,
   "id": "a861ad4e-4326-4956-84b6-8c03f553e16a",
   "metadata": {},
   "outputs": [],
   "source": [
    "def build_agent(model, actions):\n",
    "    policy = BoltzmannQPolicy()\n",
    "    memory = SequentialMemory(limit=5000, window_length=1)\n",
    "    dqn = DQNAgent(model=model, memory=memory, policy=policy, nb_actions=actions, nb_steps_warmup=10, target_model_update=1e-2)\n",
    "    return dqn"
   ]
  },
  {
   "cell_type": "code",
   "execution_count": 15,
   "id": "d692ecb4-1486-4b0a-b728-0f7948c87211",
   "metadata": {},
   "outputs": [
    {
     "name": "stdout",
     "output_type": "stream",
     "text": [
      "Training for 50000 steps ...\n",
      "Interval 1 (0 steps performed)\n",
      "    1/10000 [..............................] - ETA: 6:43 - reward: 1.0000"
     ]
    },
    {
     "name": "stderr",
     "output_type": "stream",
     "text": [
      "2024-03-23 15:52:04.270207: W tensorflow/c/c_api.cc:304] Operation '{name:'dense_3_2/kernel/Assign' id:738 op device:{requested: '', assigned: ''} def:{{{node dense_3_2/kernel/Assign}} = AssignVariableOp[_has_manual_control_dependencies=true, dtype=DT_FLOAT, validate_shape=false](dense_3_2/kernel, dense_3_2/kernel/Initializer/stateless_random_uniform)}}' was changed by setting attribute after it was run by a session. This mutation will have no effect, and will trigger an error in the future. Either don't modify nodes after running them or create a new session.\n",
      "2024-03-23 15:52:04.383424: W tensorflow/c/c_api.cc:304] Operation '{name:'dense_5/BiasAdd' id:75 op device:{requested: '', assigned: ''} def:{{{node dense_5/BiasAdd}} = BiasAdd[T=DT_FLOAT, _has_manual_control_dependencies=true, data_format=\"NHWC\"](dense_5/MatMul, dense_5/BiasAdd/ReadVariableOp)}}' was changed by setting attribute after it was run by a session. This mutation will have no effect, and will trigger an error in the future. Either don't modify nodes after running them or create a new session.\n",
      "2024-03-23 15:52:04.398852: W tensorflow/c/c_api.cc:304] Operation '{name:'total_6/Assign' id:939 op device:{requested: '', assigned: ''} def:{{{node total_6/Assign}} = AssignVariableOp[_has_manual_control_dependencies=true, dtype=DT_FLOAT, validate_shape=false](total_6, total_6/Initializer/zeros)}}' was changed by setting attribute after it was run by a session. This mutation will have no effect, and will trigger an error in the future. Either don't modify nodes after running them or create a new session.\n",
      "2024-03-23 15:52:04.427450: W tensorflow/c/c_api.cc:304] Operation '{name:'dense_5_2/BiasAdd' id:796 op device:{requested: '', assigned: ''} def:{{{node dense_5_2/BiasAdd}} = BiasAdd[T=DT_FLOAT, _has_manual_control_dependencies=true, data_format=\"NHWC\"](dense_5_2/MatMul, dense_5_2/BiasAdd/ReadVariableOp)}}' was changed by setting attribute after it was run by a session. This mutation will have no effect, and will trigger an error in the future. Either don't modify nodes after running them or create a new session.\n"
     ]
    },
    {
     "name": "stdout",
     "output_type": "stream",
     "text": [
      "   12/10000 [..............................] - ETA: 4:02 - reward: 1.0000"
     ]
    },
    {
     "name": "stderr",
     "output_type": "stream",
     "text": [
      "2024-03-23 15:52:04.529316: W tensorflow/c/c_api.cc:304] Operation '{name:'loss_7/AddN' id:1050 op device:{requested: '', assigned: ''} def:{{{node loss_7/AddN}} = AddN[N=2, T=DT_FLOAT, _has_manual_control_dependencies=true](loss_7/mul, loss_7/mul_1)}}' was changed by setting attribute after it was run by a session. This mutation will have no effect, and will trigger an error in the future. Either don't modify nodes after running them or create a new session.\n",
      "2024-03-23 15:52:04.551680: W tensorflow/c/c_api.cc:304] Operation '{name:'training_2/Adam/dense_4/kernel/v/Assign' id:1250 op device:{requested: '', assigned: ''} def:{{{node training_2/Adam/dense_4/kernel/v/Assign}} = AssignVariableOp[_has_manual_control_dependencies=true, dtype=DT_FLOAT, validate_shape=false](training_2/Adam/dense_4/kernel/v, training_2/Adam/dense_4/kernel/v/Initializer/zeros)}}' was changed by setting attribute after it was run by a session. This mutation will have no effect, and will trigger an error in the future. Either don't modify nodes after running them or create a new session.\n"
     ]
    },
    {
     "name": "stdout",
     "output_type": "stream",
     "text": [
      "10000/10000 [==============================] - 27s 3ms/step - reward: 1.0000\n",
      "52 episodes - episode_reward: 190.577 [12.000, 264.000] - loss: 1.122 - mae: 29.508 - mean_q: 59.371\n",
      "\n",
      "Interval 2 (10000 steps performed)\n",
      "10000/10000 [==============================] - 26s 3ms/step - reward: 1.0000\n",
      "41 episodes - episode_reward: 239.463 [41.000, 350.000] - loss: 0.567 - mae: 36.536 - mean_q: 73.476\n",
      "\n",
      "Interval 3 (20000 steps performed)\n",
      "10000/10000 [==============================] - 26s 3ms/step - reward: 1.0000\n",
      "32 episodes - episode_reward: 320.094 [94.000, 463.000] - loss: 0.794 - mae: 42.387 - mean_q: 85.168\n",
      "\n",
      "Interval 4 (30000 steps performed)\n",
      "10000/10000 [==============================] - 27s 3ms/step - reward: 1.0000\n",
      "23 episodes - episode_reward: 432.913 [173.000, 500.000] - loss: 3.763 - mae: 47.459 - mean_q: 95.311\n",
      "\n",
      "Interval 5 (40000 steps performed)\n",
      "10000/10000 [==============================] - 27s 3ms/step - reward: 1.0000\n",
      "done, took 132.679 seconds\n"
     ]
    },
    {
     "data": {
      "text/plain": [
       "<keras.src.callbacks.History at 0x155551560e10>"
      ]
     },
     "execution_count": 15,
     "metadata": {},
     "output_type": "execute_result"
    }
   ],
   "source": [
    "dqn = build_agent(model, actions)\n",
    "dqn.compile(Adam(learning_rate=1e-3), metrics=['mae'])\n",
    "dqn.fit(env, nb_steps=50000, visualize=False, verbose=1)            "
   ]
  },
  {
   "cell_type": "code",
   "execution_count": 17,
   "id": "cc02c7a2-0b58-4e65-8a0e-7f932372a16a",
   "metadata": {},
   "outputs": [
    {
     "name": "stdout",
     "output_type": "stream",
     "text": [
      "Testing for 50 episodes ...\n",
      "Episode 1: reward: 361.000, steps: 361\n",
      "Episode 2: reward: 326.000, steps: 326\n",
      "Episode 3: reward: 361.000, steps: 361\n",
      "Episode 4: reward: 339.000, steps: 339\n",
      "Episode 5: reward: 362.000, steps: 362\n",
      "Episode 6: reward: 362.000, steps: 362\n",
      "Episode 7: reward: 338.000, steps: 338\n",
      "Episode 8: reward: 373.000, steps: 373\n",
      "Episode 9: reward: 326.000, steps: 326\n",
      "Episode 10: reward: 364.000, steps: 364\n",
      "Episode 11: reward: 340.000, steps: 340\n",
      "Episode 12: reward: 339.000, steps: 339\n",
      "Episode 13: reward: 345.000, steps: 345\n",
      "Episode 14: reward: 356.000, steps: 356\n",
      "Episode 15: reward: 347.000, steps: 347\n",
      "Episode 16: reward: 329.000, steps: 329\n",
      "Episode 17: reward: 380.000, steps: 380\n",
      "Episode 18: reward: 364.000, steps: 364\n",
      "Episode 19: reward: 370.000, steps: 370\n",
      "Episode 20: reward: 333.000, steps: 333\n",
      "Episode 21: reward: 330.000, steps: 330\n",
      "Episode 22: reward: 359.000, steps: 359\n",
      "Episode 23: reward: 324.000, steps: 324\n",
      "Episode 24: reward: 364.000, steps: 364\n",
      "Episode 25: reward: 342.000, steps: 342\n",
      "Episode 26: reward: 352.000, steps: 352\n",
      "Episode 27: reward: 359.000, steps: 359\n",
      "Episode 28: reward: 349.000, steps: 349\n",
      "Episode 29: reward: 341.000, steps: 341\n",
      "Episode 30: reward: 357.000, steps: 357\n",
      "Episode 31: reward: 368.000, steps: 368\n",
      "Episode 32: reward: 351.000, steps: 351\n",
      "Episode 33: reward: 330.000, steps: 330\n",
      "Episode 34: reward: 354.000, steps: 354\n",
      "Episode 35: reward: 339.000, steps: 339\n",
      "Episode 36: reward: 349.000, steps: 349\n",
      "Episode 37: reward: 337.000, steps: 337\n",
      "Episode 38: reward: 331.000, steps: 331\n",
      "Episode 39: reward: 348.000, steps: 348\n",
      "Episode 40: reward: 334.000, steps: 334\n",
      "Episode 41: reward: 361.000, steps: 361\n",
      "Episode 42: reward: 348.000, steps: 348\n",
      "Episode 43: reward: 345.000, steps: 345\n",
      "Episode 44: reward: 404.000, steps: 404\n",
      "Episode 45: reward: 353.000, steps: 353\n",
      "Episode 46: reward: 360.000, steps: 360\n",
      "Episode 47: reward: 326.000, steps: 326\n",
      "Episode 48: reward: 363.000, steps: 363\n",
      "Episode 49: reward: 348.000, steps: 348\n",
      "Episode 50: reward: 337.000, steps: 337\n",
      "349.56\n"
     ]
    }
   ],
   "source": [
    "scores = dqn.test(env, nb_episodes=50, visualize=False)\n",
    "print(np.mean(scores.history['episode_reward']))"
   ]
  },
  {
   "cell_type": "code",
   "execution_count": null,
   "id": "7a217c60-4926-42fc-a7fd-354182b68bbc",
   "metadata": {},
   "outputs": [],
   "source": []
  }
 ],
 "metadata": {
  "kernelspec": {
   "display_name": "Python 3 (ipykernel)",
   "language": "python",
   "name": "python3"
  },
  "language_info": {
   "codemirror_mode": {
    "name": "ipython",
    "version": 3
   },
   "file_extension": ".py",
   "mimetype": "text/x-python",
   "name": "python",
   "nbconvert_exporter": "python",
   "pygments_lexer": "ipython3",
   "version": "3.11.6"
  }
 },
 "nbformat": 4,
 "nbformat_minor": 5
}
